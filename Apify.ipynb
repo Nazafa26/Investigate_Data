{
 "cells": [
  {
   "cell_type": "markdown",
   "id": "2996a2c9-7e56-42e2-888d-7e2672280c02",
   "metadata": {},
   "source": [
    "# Apify Pricing"
   ]
  },
  {
   "cell_type": "markdown",
   "id": "841e6faf-6490-4ff3-8671-ae4742751109",
   "metadata": {},
   "source": [
    "Apify is a platform for web scraping. It lets developers and companies automate manual workflows they usually do on the web. Customers are able to use one of 200+ ready-made tools for web scraping and web automation to scrape web pages, e-commerce platforms, mobile apps, social media, and other websites.  __At least, it's what claimed on the Apify website.__\n",
    "\n",
    "All of these tools which are called __actors__ in Apify Store fall into one of these three pricing models:\n",
    "\n",
    "__Free__ - you can run the actor freely and you only pay for platform usage the actor generates.\n",
    "\n",
    "__Paid__ - same as free, but in order to be able to run the actor after the trial period, you need to rent the actor from the developer and pay a flat monthly fee on the top of the platform usage the actor generates.\n",
    "\n",
    "__Paid per result__ - you do not pay for platform usage the actor generates and only pay for the results it produces.\n",
    "\n",
    "You can find more details about the pricing models through the following link: https://docs.apify.com/platform/actors/running/actors-in-store"
   ]
  },
  {
   "cell_type": "markdown",
   "id": "956e199d-6d96-4496-bbbb-a9ca6d0005f3",
   "metadata": {
    "tags": []
   },
   "source": [
    "### Aim"
   ]
  },
  {
   "cell_type": "markdown",
   "id": "003fb3fd-5c46-4e0a-baf6-762afb153867",
   "metadata": {},
   "source": [
    "In this case, we find out which one of the the pricing models: __Paid__ , __Paid per result__ and __Free__ in this platform, generated more profit. To analyse the data and display the result, we use Multivariate regression in supervised machine learning. It is an extension of multiple regression with one dependent variable and multiple independent variables. Based on the number of independent variables, we try to predict the output.\n",
    "\n",
    "We analyze the usage of the platform in __USD__ based on the two required features: __Compute Unit__ and __Dataset Items Count__ and compare the amount of profit generated in each of these two variables."
   ]
  },
  {
   "cell_type": "markdown",
   "id": "f7aa68d7-dbf1-4537-8155-fdba747fffbe",
   "metadata": {},
   "source": [
    "### Data"
   ]
  },
  {
   "cell_type": "markdown",
   "id": "a6a52cf5-2d3c-4dd8-90e3-7de04684a496",
   "metadata": {},
   "source": [
    "****The data used in this projected was provided by the Apify data team lead, during the job interview.****"
   ]
  },
  {
   "cell_type": "markdown",
   "id": "0f4f262f-c625-4aa1-b5d9-56606af502e9",
   "metadata": {},
   "source": [
    "### Libraries Used"
   ]
  },
  {
   "cell_type": "code",
   "execution_count": 31,
   "id": "62453401-e2c8-4182-b39e-542782ed6aa1",
   "metadata": {},
   "outputs": [],
   "source": [
    "import matplotlib.pyplot as plt\n",
    "import numpy as np\n",
    "import pandas as pd\n",
    "from sklearn.model_selection import train_test_split\n",
    "import seaborn as sns\n",
    "\n",
    "from sklearn.metrics import r2_score\n",
    "from pylab import *\n",
    "from scipy import stats\n",
    "import seaborn as sns\n",
    "from sklearn.model_selection import train_test_split\n",
    "from sklearn.linear_model import LinearRegression"
   ]
  },
  {
   "cell_type": "markdown",
   "id": "35170dc0-9682-4ec7-9a81-08b364cbd267",
   "metadata": {},
   "source": [
    "### Loading the Data"
   ]
  },
  {
   "cell_type": "code",
   "execution_count": 16,
   "id": "63483a3f-dacf-4fd0-af86-ed2cee6d48ea",
   "metadata": {},
   "outputs": [],
   "source": [
    "df = pd.read_csv('actor_runs_2023.csv')"
   ]
  },
  {
   "cell_type": "markdown",
   "id": "9f562f2f-3e85-498e-b71b-81398e600ef7",
   "metadata": {},
   "source": [
    "### Sample Data"
   ]
  },
  {
   "cell_type": "code",
   "execution_count": 17,
   "id": "92b74e18-bd85-46ad-84fa-26ab4b1a1c4e",
   "metadata": {},
   "outputs": [
    {
     "data": {
      "text/html": [
       "<div>\n",
       "<style scoped>\n",
       "    .dataframe tbody tr th:only-of-type {\n",
       "        vertical-align: middle;\n",
       "    }\n",
       "\n",
       "    .dataframe tbody tr th {\n",
       "        vertical-align: top;\n",
       "    }\n",
       "\n",
       "    .dataframe thead th {\n",
       "        text-align: right;\n",
       "    }\n",
       "</style>\n",
       "<table border=\"1\" class=\"dataframe\">\n",
       "  <thead>\n",
       "    <tr style=\"text-align: right;\">\n",
       "      <th></th>\n",
       "      <th>run_id</th>\n",
       "      <th>user_id</th>\n",
       "      <th>actor_id</th>\n",
       "      <th>build_id</th>\n",
       "      <th>started_at</th>\n",
       "      <th>finished_at</th>\n",
       "      <th>status</th>\n",
       "      <th>usage_key_value_store_reads</th>\n",
       "      <th>usage_key_value_store_writes</th>\n",
       "      <th>usage_key_value_store_lists</th>\n",
       "      <th>usage_request_queue_reads</th>\n",
       "      <th>usage_request_queue_writes</th>\n",
       "      <th>usage_dataset_reads</th>\n",
       "      <th>usage_dataset_writes</th>\n",
       "      <th>usage_residential_proxy_transfer_bytes</th>\n",
       "      <th>usage_proxy_serps</th>\n",
       "      <th>usage_compute_units</th>\n",
       "      <th>dataset_items_count</th>\n",
       "      <th>total_platform_usage_usd</th>\n",
       "    </tr>\n",
       "  </thead>\n",
       "  <tbody>\n",
       "    <tr>\n",
       "      <th>0</th>\n",
       "      <td>Re6S1iNa9VakoMgaR</td>\n",
       "      <td>vmNDHzHvi8srXSbk8</td>\n",
       "      <td>m1NPxIieJaZd9UhP6</td>\n",
       "      <td>Mi8kbH6PMC65ZmuvV</td>\n",
       "      <td>2023-03-16T11:12:02.824Z</td>\n",
       "      <td>2023-03-16T11:12:22.534Z</td>\n",
       "      <td>SUCCEEDED</td>\n",
       "      <td>1</td>\n",
       "      <td>1</td>\n",
       "      <td>0</td>\n",
       "      <td>0</td>\n",
       "      <td>0</td>\n",
       "      <td>0</td>\n",
       "      <td>28</td>\n",
       "      <td>0</td>\n",
       "      <td>0</td>\n",
       "      <td>0.001357</td>\n",
       "      <td>28</td>\n",
       "      <td>0.000534</td>\n",
       "    </tr>\n",
       "    <tr>\n",
       "      <th>1</th>\n",
       "      <td>c0NvWUPZEXI3jDRC7</td>\n",
       "      <td>WYC4rsszWSw5iCkkW</td>\n",
       "      <td>bf54TfrKoJrQZsrZm</td>\n",
       "      <td>Mnsb9UmkTtab7oMFG</td>\n",
       "      <td>2023-03-16T12:25:10.06Z</td>\n",
       "      <td>2023-03-16T12:25:13.708Z</td>\n",
       "      <td>FAILED</td>\n",
       "      <td>1</td>\n",
       "      <td>1</td>\n",
       "      <td>0</td>\n",
       "      <td>0</td>\n",
       "      <td>0</td>\n",
       "      <td>0</td>\n",
       "      <td>0</td>\n",
       "      <td>0</td>\n",
       "      <td>0</td>\n",
       "      <td>0.001906</td>\n",
       "      <td>0</td>\n",
       "      <td>0.000532</td>\n",
       "    </tr>\n",
       "    <tr>\n",
       "      <th>2</th>\n",
       "      <td>7Ta0QDxg8gQChzKnF</td>\n",
       "      <td>Z9JpDf74uHecET97E</td>\n",
       "      <td>9Sk4JJhEma9vBKqrg</td>\n",
       "      <td>kqMNhAaZCiyxawUns</td>\n",
       "      <td>2023-03-16T19:39:03.889Z</td>\n",
       "      <td>2023-03-16T19:40:08.04Z</td>\n",
       "      <td>SUCCEEDED</td>\n",
       "      <td>1</td>\n",
       "      <td>11</td>\n",
       "      <td>0</td>\n",
       "      <td>14</td>\n",
       "      <td>73</td>\n",
       "      <td>0</td>\n",
       "      <td>10</td>\n",
       "      <td>0</td>\n",
       "      <td>0</td>\n",
       "      <td>0.071098</td>\n",
       "      <td>0</td>\n",
       "      <td>0.020086</td>\n",
       "    </tr>\n",
       "    <tr>\n",
       "      <th>3</th>\n",
       "      <td>IR4pAPViSQcu39Yws</td>\n",
       "      <td>Wb79moXaBTjTo3ieC</td>\n",
       "      <td>YPh5JENjSSR6vBf2E</td>\n",
       "      <td>WmEnXz3WBxfEaM6Ko</td>\n",
       "      <td>2023-03-16T17:17:20.111Z</td>\n",
       "      <td>2023-03-16T17:17:29.662Z</td>\n",
       "      <td>SUCCEEDED</td>\n",
       "      <td>1</td>\n",
       "      <td>2</td>\n",
       "      <td>0</td>\n",
       "      <td>1</td>\n",
       "      <td>2</td>\n",
       "      <td>0</td>\n",
       "      <td>1</td>\n",
       "      <td>0</td>\n",
       "      <td>0</td>\n",
       "      <td>0.005203</td>\n",
       "      <td>0</td>\n",
       "      <td>0.001461</td>\n",
       "    </tr>\n",
       "    <tr>\n",
       "      <th>4</th>\n",
       "      <td>YqBVQQN5emULPxBuL</td>\n",
       "      <td>pqQB4FWGoS8nsfMoo</td>\n",
       "      <td>moJRLRc85AitArpNN</td>\n",
       "      <td>VezLeaxKZT0ZmuguN</td>\n",
       "      <td>2023-03-16T16:47:55.406Z</td>\n",
       "      <td>2023-03-16T16:48:07.312Z</td>\n",
       "      <td>SUCCEEDED</td>\n",
       "      <td>1</td>\n",
       "      <td>4</td>\n",
       "      <td>0</td>\n",
       "      <td>8</td>\n",
       "      <td>2</td>\n",
       "      <td>0</td>\n",
       "      <td>1</td>\n",
       "      <td>0</td>\n",
       "      <td>1</td>\n",
       "      <td>0.001630</td>\n",
       "      <td>1</td>\n",
       "      <td>0.003703</td>\n",
       "    </tr>\n",
       "  </tbody>\n",
       "</table>\n",
       "</div>"
      ],
      "text/plain": [
       "              run_id            user_id           actor_id           build_id  \\\n",
       "0  Re6S1iNa9VakoMgaR  vmNDHzHvi8srXSbk8  m1NPxIieJaZd9UhP6  Mi8kbH6PMC65ZmuvV   \n",
       "1  c0NvWUPZEXI3jDRC7  WYC4rsszWSw5iCkkW  bf54TfrKoJrQZsrZm  Mnsb9UmkTtab7oMFG   \n",
       "2  7Ta0QDxg8gQChzKnF  Z9JpDf74uHecET97E  9Sk4JJhEma9vBKqrg  kqMNhAaZCiyxawUns   \n",
       "3  IR4pAPViSQcu39Yws  Wb79moXaBTjTo3ieC  YPh5JENjSSR6vBf2E  WmEnXz3WBxfEaM6Ko   \n",
       "4  YqBVQQN5emULPxBuL  pqQB4FWGoS8nsfMoo  moJRLRc85AitArpNN  VezLeaxKZT0ZmuguN   \n",
       "\n",
       "                 started_at               finished_at     status  \\\n",
       "0  2023-03-16T11:12:02.824Z  2023-03-16T11:12:22.534Z  SUCCEEDED   \n",
       "1   2023-03-16T12:25:10.06Z  2023-03-16T12:25:13.708Z     FAILED   \n",
       "2  2023-03-16T19:39:03.889Z   2023-03-16T19:40:08.04Z  SUCCEEDED   \n",
       "3  2023-03-16T17:17:20.111Z  2023-03-16T17:17:29.662Z  SUCCEEDED   \n",
       "4  2023-03-16T16:47:55.406Z  2023-03-16T16:48:07.312Z  SUCCEEDED   \n",
       "\n",
       "   usage_key_value_store_reads  usage_key_value_store_writes  \\\n",
       "0                            1                             1   \n",
       "1                            1                             1   \n",
       "2                            1                            11   \n",
       "3                            1                             2   \n",
       "4                            1                             4   \n",
       "\n",
       "   usage_key_value_store_lists  usage_request_queue_reads  \\\n",
       "0                            0                          0   \n",
       "1                            0                          0   \n",
       "2                            0                         14   \n",
       "3                            0                          1   \n",
       "4                            0                          8   \n",
       "\n",
       "   usage_request_queue_writes  usage_dataset_reads  usage_dataset_writes  \\\n",
       "0                           0                    0                    28   \n",
       "1                           0                    0                     0   \n",
       "2                          73                    0                    10   \n",
       "3                           2                    0                     1   \n",
       "4                           2                    0                     1   \n",
       "\n",
       "   usage_residential_proxy_transfer_bytes  usage_proxy_serps  \\\n",
       "0                                       0                  0   \n",
       "1                                       0                  0   \n",
       "2                                       0                  0   \n",
       "3                                       0                  0   \n",
       "4                                       0                  1   \n",
       "\n",
       "   usage_compute_units  dataset_items_count  total_platform_usage_usd  \n",
       "0             0.001357                   28                  0.000534  \n",
       "1             0.001906                    0                  0.000532  \n",
       "2             0.071098                    0                  0.020086  \n",
       "3             0.005203                    0                  0.001461  \n",
       "4             0.001630                    1                  0.003703  "
      ]
     },
     "execution_count": 17,
     "metadata": {},
     "output_type": "execute_result"
    }
   ],
   "source": [
    "df.head()\n",
    "# x1 => run_id        x\n",
    "# x2 => user_id     y\n",
    "# x3 => actor_id z\n",
    "# x4 => build_id\n",
    "# x5 => started_at\n",
    "# x6 => finished_at\n",
    "# x7 => status\n",
    "# x8 => usage_key_value_store_reads\n",
    "# x9 => usage_key_value_store_writes\n",
    "#.\n",
    "#.\n",
    "#.\n",
    "# x17 => usage_compute_units\n",
    "# x18 => dataset_items_count\n",
    "# x19 => total_platform_usage_usd \n",
    "# y = a1 * x1 + a2 * x2 + a3 * x3 + "
   ]
  },
  {
   "cell_type": "markdown",
   "id": "fa3776e6-315b-4b64-bfa9-77c482e375da",
   "metadata": {},
   "source": [
    "### Plot of 'Platform Usage in USD' vs. 'CU' and 'Dataset Items'"
   ]
  },
  {
   "cell_type": "code",
   "execution_count": 18,
   "id": "2bbe7e88-8c4a-4214-9610-c62d91efa176",
   "metadata": {},
   "outputs": [
    {
     "data": {
      "text/plain": [
       "<seaborn.axisgrid.FacetGrid at 0x7fc96fdf9dc0>"
      ]
     },
     "execution_count": 18,
     "metadata": {},
     "output_type": "execute_result"
    },
    {
     "data": {
      "image/png": "[encoded data removed]",
      "text/plain": [
       "<Figure size 360x360 with 1 Axes>"
      ]
     },
     "metadata": {
      "needs_background": "light"
     },
     "output_type": "display_data"
    },
    {
     "data": {
      "image/png": "[encoded data removed]",
      "text/plain": [
       "<Figure size 360x360 with 1 Axes>"
      ]
     },
     "metadata": {
      "needs_background": "light"
     },
     "output_type": "display_data"
    }
   ],
   "source": [
    "sns.relplot(x='total_platform_usage_usd', y = 'usage_compute_units', data = df )\n",
    "sns.relplot(x='total_platform_usage_usd', y = 'dataset_items_count', data = df )\n",
    "# this is just to show there is no correlation on one variables"
   ]
  },
  {
   "cell_type": "markdown",
   "id": "d7b71bbf-ecaa-4a44-9094-4540b307c060",
   "metadata": {},
   "source": [
    "### Observation"
   ]
  },
  {
   "cell_type": "markdown",
   "id": "c911008e-d346-4903-afd7-4f2940275616",
   "metadata": {},
   "source": [
    "We can observe that there is a multivariate regression between total_platform_usage_usd and dataset_items_count and usage_compute_units. In the dataset we can see when usage_compute_units increases, total_platform_usage_usd increases as well. But, when dataset_items_count increases, the total_platform_usage-usd has a polynomial regression and not neccessarily increases."
   ]
  },
  {
   "cell_type": "markdown",
   "id": "b84bcc8f-b290-466d-835e-8b911ad75efc",
   "metadata": {},
   "source": [
    "### MultiVariate Function:"
   ]
  },
  {
   "cell_type": "markdown",
   "id": "886d129e-64b0-46d9-afa0-bc9d95ec25e1",
   "metadata": {},
   "source": [
    "We drop some of the columns which are not nominal as the function will have an error to have a combination of float and string."
   ]
  },
  {
   "cell_type": "code",
   "execution_count": 25,
   "id": "feb09d7e-647c-4d47-ad3b-1182c6116518",
   "metadata": {},
   "outputs": [
    {
     "data": {
      "text/html": [
       "<div>\n",
       "<style scoped>\n",
       "    .dataframe tbody tr th:only-of-type {\n",
       "        vertical-align: middle;\n",
       "    }\n",
       "\n",
       "    .dataframe tbody tr th {\n",
       "        vertical-align: top;\n",
       "    }\n",
       "\n",
       "    .dataframe thead th {\n",
       "        text-align: right;\n",
       "    }\n",
       "</style>\n",
       "<table border=\"1\" class=\"dataframe\">\n",
       "  <thead>\n",
       "    <tr style=\"text-align: right;\">\n",
       "      <th></th>\n",
       "      <th>usage_key_value_store_reads</th>\n",
       "      <th>usage_key_value_store_writes</th>\n",
       "      <th>usage_key_value_store_lists</th>\n",
       "      <th>usage_request_queue_reads</th>\n",
       "      <th>usage_request_queue_writes</th>\n",
       "      <th>usage_dataset_reads</th>\n",
       "      <th>usage_dataset_writes</th>\n",
       "      <th>usage_residential_proxy_transfer_bytes</th>\n",
       "      <th>usage_compute_units</th>\n",
       "      <th>dataset_items_count</th>\n",
       "    </tr>\n",
       "  </thead>\n",
       "  <tbody>\n",
       "    <tr>\n",
       "      <th>0</th>\n",
       "      <td>1</td>\n",
       "      <td>1</td>\n",
       "      <td>0</td>\n",
       "      <td>0</td>\n",
       "      <td>0</td>\n",
       "      <td>0</td>\n",
       "      <td>28</td>\n",
       "      <td>0</td>\n",
       "      <td>0.001357</td>\n",
       "      <td>28</td>\n",
       "    </tr>\n",
       "    <tr>\n",
       "      <th>1</th>\n",
       "      <td>1</td>\n",
       "      <td>1</td>\n",
       "      <td>0</td>\n",
       "      <td>0</td>\n",
       "      <td>0</td>\n",
       "      <td>0</td>\n",
       "      <td>0</td>\n",
       "      <td>0</td>\n",
       "      <td>0.001906</td>\n",
       "      <td>0</td>\n",
       "    </tr>\n",
       "    <tr>\n",
       "      <th>2</th>\n",
       "      <td>1</td>\n",
       "      <td>11</td>\n",
       "      <td>0</td>\n",
       "      <td>14</td>\n",
       "      <td>73</td>\n",
       "      <td>0</td>\n",
       "      <td>10</td>\n",
       "      <td>0</td>\n",
       "      <td>0.071098</td>\n",
       "      <td>0</td>\n",
       "    </tr>\n",
       "    <tr>\n",
       "      <th>3</th>\n",
       "      <td>1</td>\n",
       "      <td>2</td>\n",
       "      <td>0</td>\n",
       "      <td>1</td>\n",
       "      <td>2</td>\n",
       "      <td>0</td>\n",
       "      <td>1</td>\n",
       "      <td>0</td>\n",
       "      <td>0.005203</td>\n",
       "      <td>0</td>\n",
       "    </tr>\n",
       "    <tr>\n",
       "      <th>4</th>\n",
       "      <td>1</td>\n",
       "      <td>4</td>\n",
       "      <td>0</td>\n",
       "      <td>8</td>\n",
       "      <td>2</td>\n",
       "      <td>0</td>\n",
       "      <td>1</td>\n",
       "      <td>0</td>\n",
       "      <td>0.001630</td>\n",
       "      <td>1</td>\n",
       "    </tr>\n",
       "  </tbody>\n",
       "</table>\n",
       "</div>"
      ],
      "text/plain": [
       "   usage_key_value_store_reads  usage_key_value_store_writes  \\\n",
       "0                            1                             1   \n",
       "1                            1                             1   \n",
       "2                            1                            11   \n",
       "3                            1                             2   \n",
       "4                            1                             4   \n",
       "\n",
       "   usage_key_value_store_lists  usage_request_queue_reads  \\\n",
       "0                            0                          0   \n",
       "1                            0                          0   \n",
       "2                            0                         14   \n",
       "3                            0                          1   \n",
       "4                            0                          8   \n",
       "\n",
       "   usage_request_queue_writes  usage_dataset_reads  usage_dataset_writes  \\\n",
       "0                           0                    0                    28   \n",
       "1                           0                    0                     0   \n",
       "2                          73                    0                    10   \n",
       "3                           2                    0                     1   \n",
       "4                           2                    0                     1   \n",
       "\n",
       "   usage_residential_proxy_transfer_bytes  usage_compute_units  \\\n",
       "0                                       0             0.001357   \n",
       "1                                       0             0.001906   \n",
       "2                                       0             0.071098   \n",
       "3                                       0             0.005203   \n",
       "4                                       0             0.001630   \n",
       "\n",
       "   dataset_items_count  \n",
       "0                   28  \n",
       "1                    0  \n",
       "2                    0  \n",
       "3                    0  \n",
       "4                    1  "
      ]
     },
     "execution_count": 25,
     "metadata": {},
     "output_type": "execute_result"
    }
   ],
   "source": [
    "# Setting the X and y\n",
    "X = df.drop(columns= ['total_platform_usage_usd', 'usage_proxy_serps', 'build_id', 'run_id', 'user_id', 'started_at', 'finished_at', 'status', 'actor_id']) # X => Feature df\n",
    "y = df['total_platform_usage_usd'] # tagert\n",
    "X.head() # Feture"
   ]
  },
  {
   "cell_type": "markdown",
   "id": "93a21572-1523-402e-8e3e-7777494ed8d2",
   "metadata": {},
   "source": [
    "### Testing the Dataset"
   ]
  },
  {
   "cell_type": "markdown",
   "id": "d9fca813-2ba3-48b5-a717-e5ef9818edd3",
   "metadata": {},
   "source": [
    "To test the dataset we created four variables to train and then test the created function. \n",
    "We chose the test size equal to 20 percent. "
   ]
  },
  {
   "cell_type": "code",
   "execution_count": 26,
   "id": "83c6db42-0447-4f40-b560-04d465691163",
   "metadata": {},
   "outputs": [],
   "source": [
    "X_train , X_test, y_train, y_test = train_test_split(X, y , test_size =.2, random_state=0)"
   ]
  },
  {
   "cell_type": "code",
   "execution_count": 27,
   "id": "434276e1-8ac5-40ba-a4c1-1d5afd9a3b8f",
   "metadata": {},
   "outputs": [
    {
     "data": {
      "text/plain": [
       "LinearRegression()"
      ]
     },
     "execution_count": 27,
     "metadata": {},
     "output_type": "execute_result"
    }
   ],
   "source": [
    "from sklearn.linear_model import LinearRegression\n",
    "regressor = LinearRegression() # This is just the library not simple liner regression \n",
    "regressor.fit (X_train, y_train) # Training"
   ]
  },
  {
   "cell_type": "code",
   "execution_count": 28,
   "id": "767efba2-430d-47d7-b9ce-e8ba37417274",
   "metadata": {},
   "outputs": [],
   "source": [
    "y_pred = regressor.predict(X_test) # Test on previously not seen dataset\n",
    "\n",
    "results = pd.DataFrame({'Actual' :y_test, 'Predicted': y_pred}) # Creating a comaprsion Table"
   ]
  },
  {
   "cell_type": "code",
   "execution_count": 29,
   "id": "6f256dd3-02c0-4f4d-b72f-27b6fe95b888",
   "metadata": {},
   "outputs": [
    {
     "data": {
      "text/html": [
       "<div>\n",
       "<style scoped>\n",
       "    .dataframe tbody tr th:only-of-type {\n",
       "        vertical-align: middle;\n",
       "    }\n",
       "\n",
       "    .dataframe tbody tr th {\n",
       "        vertical-align: top;\n",
       "    }\n",
       "\n",
       "    .dataframe thead th {\n",
       "        text-align: right;\n",
       "    }\n",
       "</style>\n",
       "<table border=\"1\" class=\"dataframe\">\n",
       "  <thead>\n",
       "    <tr style=\"text-align: right;\">\n",
       "      <th></th>\n",
       "      <th>Actual</th>\n",
       "      <th>Predicted</th>\n",
       "    </tr>\n",
       "  </thead>\n",
       "  <tbody>\n",
       "    <tr>\n",
       "      <th>1348815</th>\n",
       "      <td>0.003862</td>\n",
       "      <td>0.001596</td>\n",
       "    </tr>\n",
       "    <tr>\n",
       "      <th>4438721</th>\n",
       "      <td>0.017274</td>\n",
       "      <td>0.043365</td>\n",
       "    </tr>\n",
       "    <tr>\n",
       "      <th>4519922</th>\n",
       "      <td>0.006635</td>\n",
       "      <td>0.005133</td>\n",
       "    </tr>\n",
       "    <tr>\n",
       "      <th>4527259</th>\n",
       "      <td>0.001924</td>\n",
       "      <td>0.001848</td>\n",
       "    </tr>\n",
       "    <tr>\n",
       "      <th>2429339</th>\n",
       "      <td>0.007755</td>\n",
       "      <td>0.012183</td>\n",
       "    </tr>\n",
       "  </tbody>\n",
       "</table>\n",
       "</div>"
      ],
      "text/plain": [
       "           Actual  Predicted\n",
       "1348815  0.003862   0.001596\n",
       "4438721  0.017274   0.043365\n",
       "4519922  0.006635   0.005133\n",
       "4527259  0.001924   0.001848\n",
       "2429339  0.007755   0.012183"
      ]
     },
     "execution_count": 29,
     "metadata": {},
     "output_type": "execute_result"
    }
   ],
   "source": [
    "results.head() # only display first 5"
   ]
  },
  {
   "cell_type": "markdown",
   "id": "2b768530-8d4d-415f-b953-742d16b4aa64",
   "metadata": {},
   "source": [
    "### R2 Score"
   ]
  },
  {
   "cell_type": "markdown",
   "id": "8509f672-ab91-4b2f-9f3d-edc915c78107",
   "metadata": {},
   "source": [
    "R is the accuracy of the algoritm, which in this case is a good number because it is close to 1."
   ]
  },
  {
   "cell_type": "code",
   "execution_count": 30,
   "id": "6d950e05-98eb-4753-9ab5-a2420df16c73",
   "metadata": {},
   "outputs": [
    {
     "data": {
      "text/plain": [
       "0.9122665509540744"
      ]
     },
     "execution_count": 30,
     "metadata": {},
     "output_type": "execute_result"
    }
   ],
   "source": [
    "from sklearn.metrics import r2_score\n",
    "r2_score(y_test, y_pred) "
   ]
  },
  {
   "cell_type": "markdown",
   "id": "251a6930-2f90-4f81-9647-c96067f98d2a",
   "metadata": {},
   "source": [
    "## Conclusion"
   ]
  },
  {
   "cell_type": "markdown",
   "id": "bb3514ca-1dbc-4bab-9805-cb8f665a5e2b",
   "metadata": {},
   "source": [
    "In __Usage Compute Units__ pricing model, most consumers used the free pricing model and up to 100 dollars which can also be fixed pricing. The usage was decreasing for more expensive pricing.\n",
    "In __Dataset Items Count__ pricing model, the consumers were charged even if they didn't use the CPU and memory resources consumed by the Actor.\n",
    "\n",
    "Apify's website and pricing plans are not straightforward without evident and consumer-friendly pricing descriptions; therefore, any improvement in the process of this project is welcomed."
   ]
  }
 ],
 "metadata": {
  "kernelspec": {
   "display_name": "Python 3 (ipykernel)",
   "language": "python",
   "name": "python3"
  },
  "language_info": {
   "codemirror_mode": {
    "name": "ipython",
    "version": 3
   },
   "file_extension": ".py",
   "mimetype": "text/x-python",
   "name": "python",
   "nbconvert_exporter": "python",
   "pygments_lexer": "ipython3",
   "version": "3.9.12"
  }
 },
 "nbformat": 4,
 "nbformat_minor": 5
}
